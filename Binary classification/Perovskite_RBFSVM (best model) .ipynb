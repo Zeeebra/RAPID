{
 "cells": [
  {
   "cell_type": "markdown",
   "metadata": {},
   "source": [
    "## Optimized RBF_SVM model for trainning set engineering.\n",
    "## Author: Zhi Li\n",
    "## Date: 02/06/2019"
   ]
  },
  {
   "cell_type": "code",
   "execution_count": 93,
   "metadata": {},
   "outputs": [],
   "source": [
    "import os, fnmatch\n",
    "import numpy as np\n",
    "import pandas as pd\n",
    "import matplotlib.pyplot as plt\n",
    "from matplotlib.colors import Normalize\n",
    "from mpl_toolkits.mplot3d import Axes3D\n",
    "from mpl_toolkits.mplot3d.art3d import Poly3DCollection, Line3DCollection\n",
    "from sklearn.cross_validation import train_test_split\n",
    "from sklearn.preprocessing import StandardScaler\n",
    "from scipy.spatial.distance import pdist, cdist, squareform\n",
    "from sklearn.svm import SVC\n",
    "import pydotplus\n",
    "from sklearn.metrics import confusion_matrix, classification_report, roc_curve, auc\n",
    "from sklearn.model_selection import GridSearchCV, StratifiedShuffleSplit, learning_curve\n",
    "from sklearn.cross_validation import cross_val_score\n",
    "import optunity\n",
    "import optunity.metrics"
   ]
  },
  {
   "cell_type": "code",
   "execution_count": 69,
   "metadata": {},
   "outputs": [],
   "source": [
    "# Data input\n",
    "file = \"PostRunFulldataset.csv\"\n",
    "df = pd.read_csv(file)\n",
    "Inchi = pd.read_csv(\"Organic Inchikey.csv\")\n",
    "Inchidict = dict(zip(Inchi['Chemical Name'], Inchi['InChI Key (ID)']))"
   ]
  },
  {
   "cell_type": "code",
   "execution_count": 70,
   "metadata": {},
   "outputs": [
    {
     "data": {
      "text/html": [
       "<div>\n",
       "<style scoped>\n",
       "    .dataframe tbody tr th:only-of-type {\n",
       "        vertical-align: middle;\n",
       "    }\n",
       "\n",
       "    .dataframe tbody tr th {\n",
       "        vertical-align: top;\n",
       "    }\n",
       "\n",
       "    .dataframe thead th {\n",
       "        text-align: right;\n",
       "    }\n",
       "</style>\n",
       "<table border=\"1\" class=\"dataframe\">\n",
       "  <thead>\n",
       "    <tr style=\"text-align: right;\">\n",
       "      <th></th>\n",
       "      <th>RunID_vial</th>\n",
       "      <th>_out_crystalscore</th>\n",
       "      <th>_rxn_M_acid</th>\n",
       "      <th>_rxn_M_inorganic</th>\n",
       "      <th>_rxn_M_organic</th>\n",
       "      <th>_rxn_organic-inchikey</th>\n",
       "      <th>_rxn_mixingtime1S</th>\n",
       "      <th>_rxn_mixingtime2S</th>\n",
       "      <th>_rxn_reactiontimeS</th>\n",
       "      <th>_rxn_stirrateRPM</th>\n",
       "      <th>...</th>\n",
       "      <th>_feat_fr_quatN</th>\n",
       "      <th>_feat_fr_ArN</th>\n",
       "      <th>_feat_fr_Ar_NH</th>\n",
       "      <th>_feat_fr_Imine</th>\n",
       "      <th>_feat_fr_amidine</th>\n",
       "      <th>_feat_fr_dihydropyridine</th>\n",
       "      <th>_feat_fr_guanido</th>\n",
       "      <th>_feat_fr_piperdine</th>\n",
       "      <th>_feat_fr_piperzine</th>\n",
       "      <th>_feat_fr_pyridine</th>\n",
       "    </tr>\n",
       "  </thead>\n",
       "  <tbody>\n",
       "    <tr>\n",
       "      <th>0</th>\n",
       "      <td>2017-10-17T16_00_00.000000+00_00_LBL_A1</td>\n",
       "      <td>4</td>\n",
       "      <td>2.923979</td>\n",
       "      <td>1.777256</td>\n",
       "      <td>0.888733</td>\n",
       "      <td>CALQKRVFTWDYDG-UHFFFAOYSA-N</td>\n",
       "      <td>900</td>\n",
       "      <td>1200</td>\n",
       "      <td>9000</td>\n",
       "      <td>500</td>\n",
       "      <td>...</td>\n",
       "      <td>1</td>\n",
       "      <td>0</td>\n",
       "      <td>0</td>\n",
       "      <td>0</td>\n",
       "      <td>0</td>\n",
       "      <td>0</td>\n",
       "      <td>0</td>\n",
       "      <td>0</td>\n",
       "      <td>0</td>\n",
       "      <td>0</td>\n",
       "    </tr>\n",
       "    <tr>\n",
       "      <th>1</th>\n",
       "      <td>2017-10-17T16_00_00.000000+00_00_LBL_C1</td>\n",
       "      <td>4</td>\n",
       "      <td>4.779492</td>\n",
       "      <td>1.637406</td>\n",
       "      <td>0.818800</td>\n",
       "      <td>CALQKRVFTWDYDG-UHFFFAOYSA-N</td>\n",
       "      <td>900</td>\n",
       "      <td>1200</td>\n",
       "      <td>9000</td>\n",
       "      <td>500</td>\n",
       "      <td>...</td>\n",
       "      <td>1</td>\n",
       "      <td>0</td>\n",
       "      <td>0</td>\n",
       "      <td>0</td>\n",
       "      <td>0</td>\n",
       "      <td>0</td>\n",
       "      <td>0</td>\n",
       "      <td>0</td>\n",
       "      <td>0</td>\n",
       "      <td>0</td>\n",
       "    </tr>\n",
       "    <tr>\n",
       "      <th>2</th>\n",
       "      <td>2017-10-17T16_00_00.000000+00_00_LBL_E1</td>\n",
       "      <td>4</td>\n",
       "      <td>3.576726</td>\n",
       "      <td>1.728058</td>\n",
       "      <td>0.864131</td>\n",
       "      <td>CALQKRVFTWDYDG-UHFFFAOYSA-N</td>\n",
       "      <td>900</td>\n",
       "      <td>1200</td>\n",
       "      <td>9000</td>\n",
       "      <td>500</td>\n",
       "      <td>...</td>\n",
       "      <td>1</td>\n",
       "      <td>0</td>\n",
       "      <td>0</td>\n",
       "      <td>0</td>\n",
       "      <td>0</td>\n",
       "      <td>0</td>\n",
       "      <td>0</td>\n",
       "      <td>0</td>\n",
       "      <td>0</td>\n",
       "      <td>0</td>\n",
       "    </tr>\n",
       "    <tr>\n",
       "      <th>3</th>\n",
       "      <td>2017-10-17T16_00_00.000000+00_00_LBL_G1</td>\n",
       "      <td>4</td>\n",
       "      <td>3.576726</td>\n",
       "      <td>1.728058</td>\n",
       "      <td>0.864131</td>\n",
       "      <td>CALQKRVFTWDYDG-UHFFFAOYSA-N</td>\n",
       "      <td>900</td>\n",
       "      <td>1200</td>\n",
       "      <td>9000</td>\n",
       "      <td>500</td>\n",
       "      <td>...</td>\n",
       "      <td>1</td>\n",
       "      <td>0</td>\n",
       "      <td>0</td>\n",
       "      <td>0</td>\n",
       "      <td>0</td>\n",
       "      <td>0</td>\n",
       "      <td>0</td>\n",
       "      <td>0</td>\n",
       "      <td>0</td>\n",
       "      <td>0</td>\n",
       "    </tr>\n",
       "    <tr>\n",
       "      <th>4</th>\n",
       "      <td>2017-10-17T16_00_00.000000+00_00_LBL_B1</td>\n",
       "      <td>4</td>\n",
       "      <td>4.779492</td>\n",
       "      <td>1.637406</td>\n",
       "      <td>0.818800</td>\n",
       "      <td>CALQKRVFTWDYDG-UHFFFAOYSA-N</td>\n",
       "      <td>900</td>\n",
       "      <td>1200</td>\n",
       "      <td>9000</td>\n",
       "      <td>500</td>\n",
       "      <td>...</td>\n",
       "      <td>1</td>\n",
       "      <td>0</td>\n",
       "      <td>0</td>\n",
       "      <td>0</td>\n",
       "      <td>0</td>\n",
       "      <td>0</td>\n",
       "      <td>0</td>\n",
       "      <td>0</td>\n",
       "      <td>0</td>\n",
       "      <td>0</td>\n",
       "    </tr>\n",
       "  </tbody>\n",
       "</table>\n",
       "<p>5 rows × 85 columns</p>\n",
       "</div>"
      ],
      "text/plain": [
       "                                RunID_vial  _out_crystalscore  _rxn_M_acid  \\\n",
       "0  2017-10-17T16_00_00.000000+00_00_LBL_A1                  4     2.923979   \n",
       "1  2017-10-17T16_00_00.000000+00_00_LBL_C1                  4     4.779492   \n",
       "2  2017-10-17T16_00_00.000000+00_00_LBL_E1                  4     3.576726   \n",
       "3  2017-10-17T16_00_00.000000+00_00_LBL_G1                  4     3.576726   \n",
       "4  2017-10-17T16_00_00.000000+00_00_LBL_B1                  4     4.779492   \n",
       "\n",
       "   _rxn_M_inorganic  _rxn_M_organic        _rxn_organic-inchikey  \\\n",
       "0          1.777256        0.888733  CALQKRVFTWDYDG-UHFFFAOYSA-N   \n",
       "1          1.637406        0.818800  CALQKRVFTWDYDG-UHFFFAOYSA-N   \n",
       "2          1.728058        0.864131  CALQKRVFTWDYDG-UHFFFAOYSA-N   \n",
       "3          1.728058        0.864131  CALQKRVFTWDYDG-UHFFFAOYSA-N   \n",
       "4          1.637406        0.818800  CALQKRVFTWDYDG-UHFFFAOYSA-N   \n",
       "\n",
       "   _rxn_mixingtime1S  _rxn_mixingtime2S  _rxn_reactiontimeS  _rxn_stirrateRPM  \\\n",
       "0                900               1200                9000               500   \n",
       "1                900               1200                9000               500   \n",
       "2                900               1200                9000               500   \n",
       "3                900               1200                9000               500   \n",
       "4                900               1200                9000               500   \n",
       "\n",
       "         ...          _feat_fr_quatN  _feat_fr_ArN  _feat_fr_Ar_NH  \\\n",
       "0        ...                       1             0               0   \n",
       "1        ...                       1             0               0   \n",
       "2        ...                       1             0               0   \n",
       "3        ...                       1             0               0   \n",
       "4        ...                       1             0               0   \n",
       "\n",
       "   _feat_fr_Imine  _feat_fr_amidine  _feat_fr_dihydropyridine  \\\n",
       "0               0                 0                         0   \n",
       "1               0                 0                         0   \n",
       "2               0                 0                         0   \n",
       "3               0                 0                         0   \n",
       "4               0                 0                         0   \n",
       "\n",
       "   _feat_fr_guanido  _feat_fr_piperdine  _feat_fr_piperzine  _feat_fr_pyridine  \n",
       "0                 0                   0                   0                  0  \n",
       "1                 0                   0                   0                  0  \n",
       "2                 0                   0                   0                  0  \n",
       "3                 0                   0                   0                  0  \n",
       "4                 0                   0                   0                  0  \n",
       "\n",
       "[5 rows x 85 columns]"
      ]
     },
     "execution_count": 70,
     "metadata": {},
     "output_type": "execute_result"
    }
   ],
   "source": [
    "df.head()"
   ]
  },
  {
   "cell_type": "code",
   "execution_count": 71,
   "metadata": {},
   "outputs": [],
   "source": [
    "# Generate input, output and reference dataframe\n",
    "X = df.drop(['RunID_vial', '_out_crystalscore', '_rxn_organic-inchikey'], axis =1)\n",
    "y = df.filter(['_out_crystalscore'])\n",
    "inchikey = df.filter(['RunID_vial', '_rxn_organic-inchikey']) "
   ]
  },
  {
   "cell_type": "code",
   "execution_count": 72,
   "metadata": {},
   "outputs": [],
   "source": [
    "y = (y.replace([1,2,3],0)).replace(4,1) # turned into binary classification"
   ]
  },
  {
   "cell_type": "code",
   "execution_count": 94,
   "metadata": {},
   "outputs": [],
   "source": [
    "# crossvalidation options\n",
    "cv = StratifiedShuffleSplit(n_splits=5, test_size=0.2, random_state=42)"
   ]
  },
  {
   "cell_type": "code",
   "execution_count": 73,
   "metadata": {},
   "outputs": [],
   "source": [
    "# Standarize the features\n",
    "x = StandardScaler().fit_transform(X)\n",
    "X = pd.DataFrame(x, index = X.index, columns = X.columns)\n",
    "# train test split\n",
    "X_train, X_test, y_train, y_test = train_test_split(X, y,test_size=0.2,random_state=1)"
   ]
  },
  {
   "cell_type": "code",
   "execution_count": 74,
   "metadata": {},
   "outputs": [
    {
     "data": {
      "text/plain": [
       "SVC(C=100000, cache_size=5000, class_weight=None, coef0=0.0,\n",
       "  decision_function_shape='ovr', degree=3, gamma=0.1, kernel='rbf',\n",
       "  max_iter=-1, probability=False, random_state=None, shrinking=True,\n",
       "  tol=0.001, verbose=False)"
      ]
     },
     "execution_count": 74,
     "metadata": {},
     "output_type": "execute_result"
    }
   ],
   "source": [
    "# Fit trainning sets into optimized RBF SVM\n",
    "clf = SVC(C=100000,gamma=0.1,cache_size=5000,max_iter=-1,kernel='rbf',\\\n",
    "          decision_function_shape='ovr', probability=False)\n",
    "clf.fit(X_train, y_train)"
   ]
  },
  {
   "cell_type": "code",
   "execution_count": 75,
   "metadata": {},
   "outputs": [],
   "source": [
    "# Function to compute ROC curve and ROC area for each class\n",
    "def roc (y_test, y_score, name):\n",
    "    fpr = []\n",
    "    tpr = []\n",
    "    thresholds = []\n",
    "    fpr, tpr, thresholds = roc_curve(y_test, y_score)\n",
    "    roc_auc=auc(fpr,tpr)\n",
    "    \n",
    "    fig = plt.figure()\n",
    "    ax = fig.add_subplot(111)\n",
    "    ax.plot(fpr, tpr, color='darkorange', label='ROC curve (area = %0.2f)' % roc_auc)\n",
    "    ax.plot([0, 1], [0, 1], color='navy', linestyle='--')\n",
    "    ax.set_xlim([-0.05, 1.05])\n",
    "    ax.set_ylim([-0.05, 1.05])\n",
    "    ax.set_xlabel('False Positive Rate')\n",
    "    ax.set_xlabel('True Positive Rate')\n",
    "    ax.set_title('Receiver operating characteristic example')\n",
    "    ax.legend(loc=\"lower right\")"
   ]
  },
  {
   "cell_type": "code",
   "execution_count": 76,
   "metadata": {},
   "outputs": [
    {
     "name": "stdout",
     "output_type": "stream",
     "text": [
      "Prediction accuracy:  0.8862275449101796\n",
      "Metric Report\n",
      "             precision    recall  f1-score   support\n",
      "\n",
      "          0       0.92      0.93      0.92       364\n",
      "          1       0.80      0.77      0.79       137\n",
      "\n",
      "avg / total       0.89      0.89      0.89       501\n",
      "\n"
     ]
    },
    {
     "data": {
      "image/png": "[encoded data removed]",
      "text/plain": [
       "<Figure size 432x288 with 1 Axes>"
      ]
     },
     "metadata": {
      "needs_background": "light"
     },
     "output_type": "display_data"
    }
   ],
   "source": [
    "y_score = clf.decision_function(X_test)\n",
    "y_predict = clf.predict(X_test)\n",
    "print(\"Prediction accuracy: \", clf.score(X_test,y_test))\n",
    "print(\"Metric Report\")\n",
    "print(classification_report(y_test,y_predict))\n",
    "\n",
    "# Compute ROC curve and ROC area for each class\n",
    "roc(y_test,y_score,'_RBF_SVM_ROC.png')"
   ]
  },
  {
   "cell_type": "markdown",
   "metadata": {},
   "source": [
    "## Learning curve calculation"
   ]
  },
  {
   "cell_type": "code",
   "execution_count": 85,
   "metadata": {},
   "outputs": [],
   "source": [
    "amine_list = ['Phenethylammonium iodide', 'n-Butylammonium iodide', 'Ethylammonium Iodide', 'Methylammonium iodide', \\\n",
    "               'Guanidinium iodide', 'Acetamidinium iodide', 'Formamidinium Iodide', 'Imidazolium Iodide']"
   ]
  },
  {
   "cell_type": "code",
   "execution_count": 77,
   "metadata": {},
   "outputs": [],
   "source": [
    "# A function to return score of optimized SVM\n",
    "def SVM_RBF (X_train,y_train,X_test,y_test):\n",
    "    clf = SVC(C=100000,gamma=0.1,cache_size=5000,max_iter=-1,kernel='rbf',\\\n",
    "          decision_function_shape='ovr', probability=False)\n",
    "    clf.fit(X_train, y_train)\n",
    "    return clf.score(X_test,y_test)"
   ]
  },
  {
   "cell_type": "code",
   "execution_count": 91,
   "metadata": {},
   "outputs": [],
   "source": [
    "ammonium = 'Acetamidinium iodide'\n",
    "inchi = Inchidict[ammonium]\n",
    "\n",
    "# ammonium index in original dataframe\n",
    "ammonium_index = inchikey.index[inchikey['_rxn_organic-inchikey'] == inchi].tolist()\n",
    "\n",
    "# index of X_train (ref to original dataframe)\n",
    "X_train_index = X_train.index.tolist()\n",
    "\n",
    "# index of support vectors in X_train\n",
    "X_train_SVs_index = []\n",
    "for i in clf.support_:\n",
    "    X_train_SVs_index.append(X_train.index[i])\n",
    "    \n",
    "# Find overlap between X_train_index and ammonium_index\n",
    "X_train_ammonium_index = list(set(X_train_index) & set(ammonium_index))\n",
    "\n",
    "# Find overlap between X_train_SVs_index and ammonium_index\n",
    "X_train_SVs_ammonium_index = list(set(X_train_SVs_index) & set(ammonium_index))\n",
    "\n",
    "# Find the non-SVs of ammonium in X_train\n",
    "X_train_nonSVs_ammonium_index = list(set(X_train_ammonium_index)-set(X_train_SVs_ammonium_index))\n",
    "\n",
    "# New_X_train, drop out the non-SVs for target ammonium\n",
    "New_X_train = X_train.drop(X_train_nonSVs_ammonium_index, axis =0)\n",
    "New_y_train = y_train.drop(X_train_nonSVs_ammonium_index, axis =0)\n",
    "\n",
    "# New_X_test: only include target amine\n",
    "X_test_index = X_test.index.tolist()\n",
    "X_test_ammonium_index = list(set(X_test_index) & set(ammonium_index))\n",
    "New_X_test = X_test.filter(X_test_ammonium_index, axis =0)\n",
    "New_y_test = y_test.filter(X_test_ammonium_index, axis =0)\n",
    "\n",
    "Predict_top = SVM_RBF(New_X_train, New_y_train, New_X_test, New_y_test)\n",
    "\n",
    "SVs_predict = []\n",
    "for i in range(len(X_train_SVs_ammonium_index)):\n",
    "    X_train_update = New_X_train.drop(X_train_SVs_ammonium_index[i], axis =0)\n",
    "    y_train_update = New_y_train.drop(X_train_SVs_ammonium_index[i], axis =0)\n",
    "    SVs_predict.append(SVM_RBF(X_train_update, y_train_update, New_X_test, New_y_test))\n",
    "    \n",
    "SVs_importance = -(SVs_predict-Predict_top)\n",
    "SVs_importance_df = pd.DataFrame({'SVs index': X_train_SVs_ammonium_index, 'SVs importance':SVs_importance})\n",
    "SVs_importance_df_sorted = SVs_importance_df.sort_values(by=['SVs importance'])\n",
    "X_train_SVs_ammonium_index_sorted = list(SVs_importance_df_sorted['SVs index'])\n",
    "\n",
    "predict_subtractSVs = [Predict_top]\n",
    "X_train_update = New_X_train.copy()\n",
    "y_train_update = New_y_train.copy()\n",
    "for i in range(len(X_train_SVs_ammonium_index_sorted)):\n",
    "    X_train_update = X_train_update.drop(X_train_SVs_ammonium_index_sorted[i], axis =0)\n",
    "    y_train_update = y_train_update.drop(X_train_SVs_ammonium_index_sorted[i], axis =0)\n",
    "    predict_subtractSVs.append(SVM_RBF(X_train_update, y_train_update, New_X_test, New_y_test))"
   ]
  },
  {
   "cell_type": "code",
   "execution_count": 92,
   "metadata": {},
   "outputs": [
    {
     "data": {
      "image/png": "[encoded data removed]",
      "text/plain": [
       "<Figure size 432x288 with 1 Axes>"
      ]
     },
     "metadata": {
      "needs_background": "light"
     },
     "output_type": "display_data"
    }
   ],
   "source": [
    "learningCurve = predict_subtractSVs.copy()\n",
    "learningCurve.reverse()\n",
    "fig = plt.figure()\n",
    "ax = fig.add_subplot(111)\n",
    "ax.plot(np.arange(len(X_train_SVs_ammonium_ index)+1), learningCurve)\n",
    "ax.set_xlabel(\"number of training sets in target amine\")\n",
    "ax.set_ylabel(\"prediction accuracy on target amine\")\n",
    "plt.savefig(\"prediction accuracy_vs_training sets for AcetPbI3.png\", dpi = 1000)"
   ]
  },
  {
   "cell_type": "code",
   "execution_count": 107,
   "metadata": {},
   "outputs": [
    {
     "name": "stderr",
     "output_type": "stream",
     "text": [
      "/opt/conda/lib/python3.6/site-packages/sklearn/utils/validation.py:578: DataConversionWarning: A column-vector y was passed when a 1d array was expected. Please change the shape of y to (n_samples, ), for example using ravel().\n",
      "  y = column_or_1d(y, warn=True)\n",
      "/opt/conda/lib/python3.6/site-packages/sklearn/utils/validation.py:578: DataConversionWarning: A column-vector y was passed when a 1d array was expected. Please change the shape of y to (n_samples, ), for example using ravel().\n",
      "  y = column_or_1d(y, warn=True)\n",
      "/opt/conda/lib/python3.6/site-packages/sklearn/utils/validation.py:578: DataConversionWarning: A column-vector y was passed when a 1d array was expected. Please change the shape of y to (n_samples, ), for example using ravel().\n",
      "  y = column_or_1d(y, warn=True)\n",
      "/opt/conda/lib/python3.6/site-packages/sklearn/utils/validation.py:578: DataConversionWarning: A column-vector y was passed when a 1d array was expected. Please change the shape of y to (n_samples, ), for example using ravel().\n",
      "  y = column_or_1d(y, warn=True)\n",
      "/opt/conda/lib/python3.6/site-packages/sklearn/utils/validation.py:578: DataConversionWarning: A column-vector y was passed when a 1d array was expected. Please change the shape of y to (n_samples, ), for example using ravel().\n",
      "  y = column_or_1d(y, warn=True)\n",
      "/opt/conda/lib/python3.6/site-packages/sklearn/utils/validation.py:578: DataConversionWarning: A column-vector y was passed when a 1d array was expected. Please change the shape of y to (n_samples, ), for example using ravel().\n",
      "  y = column_or_1d(y, warn=True)\n",
      "/opt/conda/lib/python3.6/site-packages/sklearn/utils/validation.py:578: DataConversionWarning: A column-vector y was passed when a 1d array was expected. Please change the shape of y to (n_samples, ), for example using ravel().\n",
      "  y = column_or_1d(y, warn=True)\n",
      "/opt/conda/lib/python3.6/site-packages/sklearn/utils/validation.py:578: DataConversionWarning: A column-vector y was passed when a 1d array was expected. Please change the shape of y to (n_samples, ), for example using ravel().\n",
      "  y = column_or_1d(y, warn=True)\n",
      "/opt/conda/lib/python3.6/site-packages/sklearn/utils/validation.py:578: DataConversionWarning: A column-vector y was passed when a 1d array was expected. Please change the shape of y to (n_samples, ), for example using ravel().\n",
      "  y = column_or_1d(y, warn=True)\n",
      "/opt/conda/lib/python3.6/site-packages/sklearn/utils/validation.py:578: DataConversionWarning: A column-vector y was passed when a 1d array was expected. Please change the shape of y to (n_samples, ), for example using ravel().\n",
      "  y = column_or_1d(y, warn=True)\n",
      "/opt/conda/lib/python3.6/site-packages/sklearn/utils/validation.py:578: DataConversionWarning: A column-vector y was passed when a 1d array was expected. Please change the shape of y to (n_samples, ), for example using ravel().\n",
      "  y = column_or_1d(y, warn=True)\n",
      "/opt/conda/lib/python3.6/site-packages/sklearn/utils/validation.py:578: DataConversionWarning: A column-vector y was passed when a 1d array was expected. Please change the shape of y to (n_samples, ), for example using ravel().\n",
      "  y = column_or_1d(y, warn=True)\n",
      "/opt/conda/lib/python3.6/site-packages/sklearn/utils/validation.py:578: DataConversionWarning: A column-vector y was passed when a 1d array was expected. Please change the shape of y to (n_samples, ), for example using ravel().\n",
      "  y = column_or_1d(y, warn=True)\n",
      "/opt/conda/lib/python3.6/site-packages/sklearn/utils/validation.py:578: DataConversionWarning: A column-vector y was passed when a 1d array was expected. Please change the shape of y to (n_samples, ), for example using ravel().\n",
      "  y = column_or_1d(y, warn=True)\n",
      "/opt/conda/lib/python3.6/site-packages/sklearn/utils/validation.py:578: DataConversionWarning: A column-vector y was passed when a 1d array was expected. Please change the shape of y to (n_samples, ), for example using ravel().\n",
      "  y = column_or_1d(y, warn=True)\n",
      "/opt/conda/lib/python3.6/site-packages/sklearn/utils/validation.py:578: DataConversionWarning: A column-vector y was passed when a 1d array was expected. Please change the shape of y to (n_samples, ), for example using ravel().\n",
      "  y = column_or_1d(y, warn=True)\n",
      "/opt/conda/lib/python3.6/site-packages/sklearn/utils/validation.py:578: DataConversionWarning: A column-vector y was passed when a 1d array was expected. Please change the shape of y to (n_samples, ), for example using ravel().\n",
      "  y = column_or_1d(y, warn=True)\n",
      "/opt/conda/lib/python3.6/site-packages/sklearn/utils/validation.py:578: DataConversionWarning: A column-vector y was passed when a 1d array was expected. Please change the shape of y to (n_samples, ), for example using ravel().\n",
      "  y = column_or_1d(y, warn=True)\n",
      "/opt/conda/lib/python3.6/site-packages/sklearn/utils/validation.py:578: DataConversionWarning: A column-vector y was passed when a 1d array was expected. Please change the shape of y to (n_samples, ), for example using ravel().\n",
      "  y = column_or_1d(y, warn=True)\n",
      "/opt/conda/lib/python3.6/site-packages/sklearn/utils/validation.py:578: DataConversionWarning: A column-vector y was passed when a 1d array was expected. Please change the shape of y to (n_samples, ), for example using ravel().\n",
      "  y = column_or_1d(y, warn=True)\n",
      "/opt/conda/lib/python3.6/site-packages/sklearn/utils/validation.py:578: DataConversionWarning: A column-vector y was passed when a 1d array was expected. Please change the shape of y to (n_samples, ), for example using ravel().\n",
      "  y = column_or_1d(y, warn=True)\n",
      "/opt/conda/lib/python3.6/site-packages/sklearn/utils/validation.py:578: DataConversionWarning: A column-vector y was passed when a 1d array was expected. Please change the shape of y to (n_samples, ), for example using ravel().\n",
      "  y = column_or_1d(y, warn=True)\n",
      "/opt/conda/lib/python3.6/site-packages/sklearn/utils/validation.py:578: DataConversionWarning: A column-vector y was passed when a 1d array was expected. Please change the shape of y to (n_samples, ), for example using ravel().\n",
      "  y = column_or_1d(y, warn=True)\n",
      "/opt/conda/lib/python3.6/site-packages/sklearn/utils/validation.py:578: DataConversionWarning: A column-vector y was passed when a 1d array was expected. Please change the shape of y to (n_samples, ), for example using ravel().\n",
      "  y = column_or_1d(y, warn=True)\n",
      "/opt/conda/lib/python3.6/site-packages/sklearn/utils/validation.py:578: DataConversionWarning: A column-vector y was passed when a 1d array was expected. Please change the shape of y to (n_samples, ), for example using ravel().\n",
      "  y = column_or_1d(y, warn=True)\n",
      "/opt/conda/lib/python3.6/site-packages/sklearn/utils/validation.py:578: DataConversionWarning: A column-vector y was passed when a 1d array was expected. Please change the shape of y to (n_samples, ), for example using ravel().\n",
      "  y = column_or_1d(y, warn=True)\n",
      "/opt/conda/lib/python3.6/site-packages/sklearn/utils/validation.py:578: DataConversionWarning: A column-vector y was passed when a 1d array was expected. Please change the shape of y to (n_samples, ), for example using ravel().\n",
      "  y = column_or_1d(y, warn=True)\n",
      "/opt/conda/lib/python3.6/site-packages/sklearn/utils/validation.py:578: DataConversionWarning: A column-vector y was passed when a 1d array was expected. Please change the shape of y to (n_samples, ), for example using ravel().\n",
      "  y = column_or_1d(y, warn=True)\n",
      "/opt/conda/lib/python3.6/site-packages/sklearn/utils/validation.py:578: DataConversionWarning: A column-vector y was passed when a 1d array was expected. Please change the shape of y to (n_samples, ), for example using ravel().\n",
      "  y = column_or_1d(y, warn=True)\n",
      "/opt/conda/lib/python3.6/site-packages/sklearn/utils/validation.py:578: DataConversionWarning: A column-vector y was passed when a 1d array was expected. Please change the shape of y to (n_samples, ), for example using ravel().\n",
      "  y = column_or_1d(y, warn=True)\n",
      "/opt/conda/lib/python3.6/site-packages/sklearn/utils/validation.py:578: DataConversionWarning: A column-vector y was passed when a 1d array was expected. Please change the shape of y to (n_samples, ), for example using ravel().\n",
      "  y = column_or_1d(y, warn=True)\n",
      "/opt/conda/lib/python3.6/site-packages/sklearn/utils/validation.py:578: DataConversionWarning: A column-vector y was passed when a 1d array was expected. Please change the shape of y to (n_samples, ), for example using ravel().\n",
      "  y = column_or_1d(y, warn=True)\n",
      "/opt/conda/lib/python3.6/site-packages/sklearn/utils/validation.py:578: DataConversionWarning: A column-vector y was passed when a 1d array was expected. Please change the shape of y to (n_samples, ), for example using ravel().\n",
      "  y = column_or_1d(y, warn=True)\n"
     ]
    },
    {
     "name": "stderr",
     "output_type": "stream",
     "text": [
      "/opt/conda/lib/python3.6/site-packages/sklearn/utils/validation.py:578: DataConversionWarning: A column-vector y was passed when a 1d array was expected. Please change the shape of y to (n_samples, ), for example using ravel().\n",
      "  y = column_or_1d(y, warn=True)\n",
      "/opt/conda/lib/python3.6/site-packages/sklearn/utils/validation.py:578: DataConversionWarning: A column-vector y was passed when a 1d array was expected. Please change the shape of y to (n_samples, ), for example using ravel().\n",
      "  y = column_or_1d(y, warn=True)\n",
      "/opt/conda/lib/python3.6/site-packages/sklearn/utils/validation.py:578: DataConversionWarning: A column-vector y was passed when a 1d array was expected. Please change the shape of y to (n_samples, ), for example using ravel().\n",
      "  y = column_or_1d(y, warn=True)\n",
      "/opt/conda/lib/python3.6/site-packages/sklearn/utils/validation.py:578: DataConversionWarning: A column-vector y was passed when a 1d array was expected. Please change the shape of y to (n_samples, ), for example using ravel().\n",
      "  y = column_or_1d(y, warn=True)\n",
      "/opt/conda/lib/python3.6/site-packages/sklearn/utils/validation.py:578: DataConversionWarning: A column-vector y was passed when a 1d array was expected. Please change the shape of y to (n_samples, ), for example using ravel().\n",
      "  y = column_or_1d(y, warn=True)\n",
      "/opt/conda/lib/python3.6/site-packages/sklearn/utils/validation.py:578: DataConversionWarning: A column-vector y was passed when a 1d array was expected. Please change the shape of y to (n_samples, ), for example using ravel().\n",
      "  y = column_or_1d(y, warn=True)\n",
      "/opt/conda/lib/python3.6/site-packages/sklearn/utils/validation.py:578: DataConversionWarning: A column-vector y was passed when a 1d array was expected. Please change the shape of y to (n_samples, ), for example using ravel().\n",
      "  y = column_or_1d(y, warn=True)\n",
      "/opt/conda/lib/python3.6/site-packages/sklearn/utils/validation.py:578: DataConversionWarning: A column-vector y was passed when a 1d array was expected. Please change the shape of y to (n_samples, ), for example using ravel().\n",
      "  y = column_or_1d(y, warn=True)\n",
      "/opt/conda/lib/python3.6/site-packages/sklearn/utils/validation.py:578: DataConversionWarning: A column-vector y was passed when a 1d array was expected. Please change the shape of y to (n_samples, ), for example using ravel().\n",
      "  y = column_or_1d(y, warn=True)\n",
      "/opt/conda/lib/python3.6/site-packages/sklearn/utils/validation.py:578: DataConversionWarning: A column-vector y was passed when a 1d array was expected. Please change the shape of y to (n_samples, ), for example using ravel().\n",
      "  y = column_or_1d(y, warn=True)\n",
      "/opt/conda/lib/python3.6/site-packages/sklearn/utils/validation.py:578: DataConversionWarning: A column-vector y was passed when a 1d array was expected. Please change the shape of y to (n_samples, ), for example using ravel().\n",
      "  y = column_or_1d(y, warn=True)\n",
      "/opt/conda/lib/python3.6/site-packages/sklearn/utils/validation.py:578: DataConversionWarning: A column-vector y was passed when a 1d array was expected. Please change the shape of y to (n_samples, ), for example using ravel().\n",
      "  y = column_or_1d(y, warn=True)\n",
      "/opt/conda/lib/python3.6/site-packages/sklearn/utils/validation.py:578: DataConversionWarning: A column-vector y was passed when a 1d array was expected. Please change the shape of y to (n_samples, ), for example using ravel().\n",
      "  y = column_or_1d(y, warn=True)\n",
      "/opt/conda/lib/python3.6/site-packages/sklearn/utils/validation.py:578: DataConversionWarning: A column-vector y was passed when a 1d array was expected. Please change the shape of y to (n_samples, ), for example using ravel().\n",
      "  y = column_or_1d(y, warn=True)\n",
      "/opt/conda/lib/python3.6/site-packages/sklearn/utils/validation.py:578: DataConversionWarning: A column-vector y was passed when a 1d array was expected. Please change the shape of y to (n_samples, ), for example using ravel().\n",
      "  y = column_or_1d(y, warn=True)\n",
      "/opt/conda/lib/python3.6/site-packages/sklearn/utils/validation.py:578: DataConversionWarning: A column-vector y was passed when a 1d array was expected. Please change the shape of y to (n_samples, ), for example using ravel().\n",
      "  y = column_or_1d(y, warn=True)\n",
      "/opt/conda/lib/python3.6/site-packages/sklearn/utils/validation.py:578: DataConversionWarning: A column-vector y was passed when a 1d array was expected. Please change the shape of y to (n_samples, ), for example using ravel().\n",
      "  y = column_or_1d(y, warn=True)\n"
     ]
    },
    {
     "data": {
      "text/plain": [
       "<module 'matplotlib.pyplot' from '/opt/conda/lib/python3.6/site-packages/matplotlib/pyplot.py'>"
      ]
     },
     "execution_count": 107,
     "metadata": {},
     "output_type": "execute_result"
    },
    {
     "data": {
      "image/png": "[encoded data removed]",
      "text/plain": [
       "<Figure size 432x288 with 1 Axes>"
      ]
     },
     "metadata": {
      "needs_background": "light"
     },
     "output_type": "display_data"
    }
   ],
   "source": [
    "def plot_learning_curve(estimator, title, X, y, ylim=None, cv=None, \\\n",
    "                        n_jobs=None, train_sizes=np.linspace(.1, 1.0, 5)):\n",
    "    plt.figure()\n",
    "    plt.title(title)\n",
    "    if ylim is not None:\n",
    "        plt.ylim(*ylim)\n",
    "    plt.xlabel(\"Number of training sets\")\n",
    "    plt.ylabel(\"Prediction accuracy\")\n",
    "    train_sizes, train_scores, test_scores = learning_curve(estimator, X, y, cv=cv, n_jobs=n_jobs, train_sizes=train_sizes)\n",
    "    train_scores_mean = np.mean(train_scores, axis=1)\n",
    "    train_scores_std = np.std(train_scores, axis=1)\n",
    "    test_scores_mean = np.mean(test_scores, axis=1)\n",
    "    test_scores_std = np.std(test_scores, axis=1)\n",
    "    plt.grid()\n",
    "\n",
    "    plt.fill_between(train_sizes, train_scores_mean - train_scores_std,\n",
    "                     train_scores_mean + train_scores_std, alpha=0.1,\n",
    "                     color=\"r\")\n",
    "    plt.fill_between(train_sizes, test_scores_mean - test_scores_std,\n",
    "                     test_scores_mean + test_scores_std, alpha=0.1, color=\"g\")\n",
    "    plt.plot(train_sizes, train_scores_mean, 'o-', color=\"r\",\n",
    "             label=\"Training score\")\n",
    "    plt.plot(train_sizes, test_scores_mean, 'o-', color=\"g\",\n",
    "             label=\"Cross-validation score\")\n",
    "\n",
    "    plt.legend(loc=\"best\")\n",
    "    plt.savefig(\"learning curve.PNG\", dpi = 1000)\n",
    "    return plt\n",
    "\n",
    "clf_1 = SVC(C=100000,gamma=0.1,cache_size=5000,max_iter=-1,kernel='rbf',\\\n",
    "          decision_function_shape='ovr', probability=False)\n",
    "plot_learning_curve(clf_1, title = 'Six perovskites learning curve', X = X_train, y = y_train, \\\n",
    "                    ylim=(0, 1.01), cv=cv, train_sizes = np.linspace(.01, 1.0, 10))"
   ]
  },
  {
   "cell_type": "code",
   "execution_count": 101,
   "metadata": {},
   "outputs": [],
   "source": [
    "X_train_1, X_test_1, y_train_1, y_test_1 = train_test_split(X, y,test_size=0.8,random_state=1)                                                            )"
   ]
  },
  {
   "cell_type": "code",
   "execution_count": 102,
   "metadata": {},
   "outputs": [
    {
     "data": {
      "text/plain": [
       "0.8323353293413174"
      ]
     },
     "execution_count": 102,
     "metadata": {},
     "output_type": "execute_result"
    }
   ],
   "source": [
    "SVM_RBF (X_train_1,y_train_1,X_test_1,y_test_1)"
   ]
  },
  {
   "cell_type": "code",
   "execution_count": null,
   "metadata": {},
   "outputs": [],
   "source": []
  }
 ],
 "metadata": {
  "kernelspec": {
   "display_name": "Python 3",
   "language": "python",
   "name": "python3"
  },
  "language_info": {
   "codemirror_mode": {
    "name": "ipython",
    "version": 3
   },
   "file_extension": ".py",
   "mimetype": "text/x-python",
   "name": "python",
   "nbconvert_exporter": "python",
   "pygments_lexer": "ipython3",
   "version": "3.6.6"
  }
 },
 "nbformat": 4,
 "nbformat_minor": 2
}
