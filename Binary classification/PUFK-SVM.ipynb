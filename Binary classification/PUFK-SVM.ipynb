{
 "cells": [
  {
   "cell_type": "code",
   "execution_count": null,
   "metadata": {},
   "outputs": [],
   "source": [
    "def PearsonVII_kernel(X1,X2, sigma=1.0, omega=1.0):\n",
    "    if X1 is X2 :\n",
    "        kernel = squareform(pdist(X1, 'euclidean'))\n",
    "    else:\n",
    "        kernel = cdist(X1, X2, 'euclidean')\n",
    "    kernel = (1 + (kernel * 4 * np.sqrt(2**(1.0/omega)-1)) / sigma**2) ** omega\n",
    "    kernel = 1/kernel\n",
    "    return kernel\n",
    "    \n",
    "clf = SVC(C = 10, cache_size=6000, max_iter = -1,kernel = PearsonVII_kernel,\\\n",
    "            decision_function_shape= 'ovr', probability = False, class_weight = 'balanced')"
   ]
  }
 ],
 "metadata": {
  "kernelspec": {
   "display_name": "Python 3",
   "language": "python",
   "name": "python3"
  },
  "language_info": {
   "codemirror_mode": {
    "name": "ipython",
    "version": 3
   },
   "file_extension": ".py",
   "mimetype": "text/x-python",
   "name": "python",
   "nbconvert_exporter": "python",
   "pygments_lexer": "ipython3",
   "version": "3.6.6"
  }
 },
 "nbformat": 4,
 "nbformat_minor": 2
}
