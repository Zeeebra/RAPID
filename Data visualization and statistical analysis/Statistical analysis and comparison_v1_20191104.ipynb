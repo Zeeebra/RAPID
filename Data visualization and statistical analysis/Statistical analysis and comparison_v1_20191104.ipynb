{
 "cells": [
  {
   "cell_type": "code",
   "execution_count": 1,
   "metadata": {},
   "outputs": [],
   "source": [
    "import os, fnmatch\n",
    "import numpy as np\n",
    "import pandas as pd\n",
    "import seaborn as sns\n",
    "import matplotlib.pyplot as plt\n",
    "from scipy.spatial import ConvexHull\n",
    "from mpl_toolkits.mplot3d import axes3d, Axes3D\n",
    "from mpl_toolkits.mplot3d.art3d import Poly3DCollection, Line3DCollection\n",
    "from matplotlib.colors import Normalize\n",
    "import matplotlib.patches as patches\n",
    "from sklearn.preprocessing import StandardScaler\n",
    "from scipy.spatial.distance import pdist, cdist, squareform\n",
    "from sklearn.neighbors import KNeighborsClassifier\n",
    "from sklearn import tree\n",
    "from sklearn.externals.six import StringIO\n",
    "from IPython.display import Image  \n",
    "from sklearn.tree import export_graphviz\n",
    "import pydotplus\n",
    "import optunity\n",
    "import optunity.metrics"
   ]
  },
  {
   "cell_type": "code",
   "execution_count": 6,
   "metadata": {},
   "outputs": [],
   "source": [
    "# Data input\n",
    "file = \"Statistics.csv\"\n",
    "Perovskite = \"All amines\"\n",
    "df = pd.read_csv(file)"
   ]
  },
  {
   "cell_type": "code",
   "execution_count": 13,
   "metadata": {},
   "outputs": [],
   "source": [
    "df['class 4 likelihood'] = (df['class 4 vol']/df['exp space vol'])*df['fill factor']\n",
    "df['Abbreviation'] = ['MA','EtA','nBuA','FA','Acet','CHMA','iBuA','DiMA','nDodA','Pyrro','4FPhenEtA','tBuA','4FBenA',\\\n",
    "                     'CHA','Morph','Piper','nHex','NNDiEtPA','NNDiMPA']"
   ]
  },
  {
   "cell_type": "code",
   "execution_count": 14,
   "metadata": {},
   "outputs": [
    {
     "data": {
      "text/html": [
       "<div>\n",
       "<style scoped>\n",
       "    .dataframe tbody tr th:only-of-type {\n",
       "        vertical-align: middle;\n",
       "    }\n",
       "\n",
       "    .dataframe tbody tr th {\n",
       "        vertical-align: top;\n",
       "    }\n",
       "\n",
       "    .dataframe thead th {\n",
       "        text-align: right;\n",
       "    }\n",
       "</style>\n",
       "<table border=\"1\" class=\"dataframe\">\n",
       "  <thead>\n",
       "    <tr style=\"text-align: right;\">\n",
       "      <th></th>\n",
       "      <th>ammonium name</th>\n",
       "      <th>exp space vol</th>\n",
       "      <th>class 4 vol</th>\n",
       "      <th>fill factor</th>\n",
       "      <th>class 4 likelihood</th>\n",
       "      <th>Abbreviation</th>\n",
       "    </tr>\n",
       "  </thead>\n",
       "  <tbody>\n",
       "    <tr>\n",
       "      <th>0</th>\n",
       "      <td>Methylammonium iodide</td>\n",
       "      <td>5.015944</td>\n",
       "      <td>0.541577</td>\n",
       "      <td>0.93</td>\n",
       "      <td>0.100413</td>\n",
       "      <td>MA</td>\n",
       "    </tr>\n",
       "    <tr>\n",
       "      <th>1</th>\n",
       "      <td>Ethylammonium Iodide</td>\n",
       "      <td>16.125883</td>\n",
       "      <td>1.086507</td>\n",
       "      <td>0.47</td>\n",
       "      <td>0.031667</td>\n",
       "      <td>EtA</td>\n",
       "    </tr>\n",
       "    <tr>\n",
       "      <th>2</th>\n",
       "      <td>n-Butylammonium iodide</td>\n",
       "      <td>3.961932</td>\n",
       "      <td>0.056969</td>\n",
       "      <td>0.14</td>\n",
       "      <td>0.002013</td>\n",
       "      <td>nBuA</td>\n",
       "    </tr>\n",
       "    <tr>\n",
       "      <th>3</th>\n",
       "      <td>Formamidinium Iodide</td>\n",
       "      <td>3.642425</td>\n",
       "      <td>3.015753</td>\n",
       "      <td>0.64</td>\n",
       "      <td>0.529889</td>\n",
       "      <td>FA</td>\n",
       "    </tr>\n",
       "    <tr>\n",
       "      <th>4</th>\n",
       "      <td>Acetamidinium iodide</td>\n",
       "      <td>13.961020</td>\n",
       "      <td>8.263530</td>\n",
       "      <td>0.26</td>\n",
       "      <td>0.153894</td>\n",
       "      <td>Acet</td>\n",
       "    </tr>\n",
       "    <tr>\n",
       "      <th>5</th>\n",
       "      <td>Cyclohexylmethylammonium iodide</td>\n",
       "      <td>6.051425</td>\n",
       "      <td>3.079778</td>\n",
       "      <td>0.90</td>\n",
       "      <td>0.458041</td>\n",
       "      <td>CHMA</td>\n",
       "    </tr>\n",
       "    <tr>\n",
       "      <th>6</th>\n",
       "      <td>iso-Butylammonium iodide</td>\n",
       "      <td>10.972508</td>\n",
       "      <td>6.022923</td>\n",
       "      <td>0.77</td>\n",
       "      <td>0.422661</td>\n",
       "      <td>iBuA</td>\n",
       "    </tr>\n",
       "    <tr>\n",
       "      <th>7</th>\n",
       "      <td>Dimethylammonium iodide</td>\n",
       "      <td>10.005372</td>\n",
       "      <td>3.695666</td>\n",
       "      <td>0.31</td>\n",
       "      <td>0.114504</td>\n",
       "      <td>DiMA</td>\n",
       "    </tr>\n",
       "    <tr>\n",
       "      <th>8</th>\n",
       "      <td>n-Dodecylammonium iodide</td>\n",
       "      <td>1.761819</td>\n",
       "      <td>0.025887</td>\n",
       "      <td>0.91</td>\n",
       "      <td>0.013371</td>\n",
       "      <td>nDodA</td>\n",
       "    </tr>\n",
       "    <tr>\n",
       "      <th>9</th>\n",
       "      <td>Pyrrolidinium Iodide</td>\n",
       "      <td>9.426442</td>\n",
       "      <td>1.128222</td>\n",
       "      <td>0.33</td>\n",
       "      <td>0.039497</td>\n",
       "      <td>Pyrro</td>\n",
       "    </tr>\n",
       "    <tr>\n",
       "      <th>10</th>\n",
       "      <td>4-Fluoro-Phenethylammonium iodide</td>\n",
       "      <td>9.309852</td>\n",
       "      <td>0.644789</td>\n",
       "      <td>0.46</td>\n",
       "      <td>0.031859</td>\n",
       "      <td>4FPhenEtA</td>\n",
       "    </tr>\n",
       "    <tr>\n",
       "      <th>11</th>\n",
       "      <td>t-Butylammonium Iodide</td>\n",
       "      <td>11.569512</td>\n",
       "      <td>0.999681</td>\n",
       "      <td>0.72</td>\n",
       "      <td>0.062213</td>\n",
       "      <td>tBuA</td>\n",
       "    </tr>\n",
       "    <tr>\n",
       "      <th>12</th>\n",
       "      <td>4-Fluoro-Benzylammonium iodide</td>\n",
       "      <td>14.033248</td>\n",
       "      <td>2.078600</td>\n",
       "      <td>0.98</td>\n",
       "      <td>0.145157</td>\n",
       "      <td>4FBenA</td>\n",
       "    </tr>\n",
       "    <tr>\n",
       "      <th>13</th>\n",
       "      <td>Cyclohexylammonium iodide</td>\n",
       "      <td>12.559986</td>\n",
       "      <td>0.354241</td>\n",
       "      <td>0.60</td>\n",
       "      <td>0.016922</td>\n",
       "      <td>CHA</td>\n",
       "    </tr>\n",
       "    <tr>\n",
       "      <th>14</th>\n",
       "      <td>Morpholinium Iodide</td>\n",
       "      <td>14.694755</td>\n",
       "      <td>1.209155</td>\n",
       "      <td>0.42</td>\n",
       "      <td>0.034560</td>\n",
       "      <td>Morph</td>\n",
       "    </tr>\n",
       "    <tr>\n",
       "      <th>15</th>\n",
       "      <td>Piperidinium Iodide</td>\n",
       "      <td>18.339359</td>\n",
       "      <td>0.249256</td>\n",
       "      <td>0.39</td>\n",
       "      <td>0.005301</td>\n",
       "      <td>Piper</td>\n",
       "    </tr>\n",
       "    <tr>\n",
       "      <th>16</th>\n",
       "      <td>n-Hexylammonium iodide</td>\n",
       "      <td>15.051916</td>\n",
       "      <td>2.030729</td>\n",
       "      <td>0.03</td>\n",
       "      <td>0.004047</td>\n",
       "      <td>nHex</td>\n",
       "    </tr>\n",
       "    <tr>\n",
       "      <th>17</th>\n",
       "      <td>N,N-Diethylpropane-1,3-diammonium iodide</td>\n",
       "      <td>4.968809</td>\n",
       "      <td>0.000744</td>\n",
       "      <td>0.50</td>\n",
       "      <td>0.000075</td>\n",
       "      <td>NNDiEtPA</td>\n",
       "    </tr>\n",
       "    <tr>\n",
       "      <th>18</th>\n",
       "      <td>N,N-dimethylpropane- 1,3-diammonium iodide</td>\n",
       "      <td>8.013681</td>\n",
       "      <td>0.924386</td>\n",
       "      <td>0.47</td>\n",
       "      <td>0.054215</td>\n",
       "      <td>NNDiMPA</td>\n",
       "    </tr>\n",
       "  </tbody>\n",
       "</table>\n",
       "</div>"
      ],
      "text/plain": [
       "                                 ammonium name  exp space vol  class 4 vol  \\\n",
       "0                        Methylammonium iodide       5.015944     0.541577   \n",
       "1                         Ethylammonium Iodide      16.125883     1.086507   \n",
       "2                       n-Butylammonium iodide       3.961932     0.056969   \n",
       "3                         Formamidinium Iodide       3.642425     3.015753   \n",
       "4                         Acetamidinium iodide      13.961020     8.263530   \n",
       "5              Cyclohexylmethylammonium iodide       6.051425     3.079778   \n",
       "6                     iso-Butylammonium iodide      10.972508     6.022923   \n",
       "7                      Dimethylammonium iodide      10.005372     3.695666   \n",
       "8                     n-Dodecylammonium iodide       1.761819     0.025887   \n",
       "9                         Pyrrolidinium Iodide       9.426442     1.128222   \n",
       "10           4-Fluoro-Phenethylammonium iodide       9.309852     0.644789   \n",
       "11                      t-Butylammonium Iodide      11.569512     0.999681   \n",
       "12              4-Fluoro-Benzylammonium iodide      14.033248     2.078600   \n",
       "13                   Cyclohexylammonium iodide      12.559986     0.354241   \n",
       "14                         Morpholinium Iodide      14.694755     1.209155   \n",
       "15                         Piperidinium Iodide      18.339359     0.249256   \n",
       "16                      n-Hexylammonium iodide      15.051916     2.030729   \n",
       "17    N,N-Diethylpropane-1,3-diammonium iodide       4.968809     0.000744   \n",
       "18  N,N-dimethylpropane- 1,3-diammonium iodide       8.013681     0.924386   \n",
       "\n",
       "    fill factor  class 4 likelihood Abbreviation  \n",
       "0          0.93            0.100413           MA  \n",
       "1          0.47            0.031667          EtA  \n",
       "2          0.14            0.002013         nBuA  \n",
       "3          0.64            0.529889           FA  \n",
       "4          0.26            0.153894         Acet  \n",
       "5          0.90            0.458041         CHMA  \n",
       "6          0.77            0.422661         iBuA  \n",
       "7          0.31            0.114504         DiMA  \n",
       "8          0.91            0.013371        nDodA  \n",
       "9          0.33            0.039497        Pyrro  \n",
       "10         0.46            0.031859    4FPhenEtA  \n",
       "11         0.72            0.062213         tBuA  \n",
       "12         0.98            0.145157       4FBenA  \n",
       "13         0.60            0.016922          CHA  \n",
       "14         0.42            0.034560        Morph  \n",
       "15         0.39            0.005301        Piper  \n",
       "16         0.03            0.004047         nHex  \n",
       "17         0.50            0.000075     NNDiEtPA  \n",
       "18         0.47            0.054215      NNDiMPA  "
      ]
     },
     "execution_count": 14,
     "metadata": {},
     "output_type": "execute_result"
    }
   ],
   "source": [
    "df"
   ]
  },
  {
   "cell_type": "code",
   "execution_count": 22,
   "metadata": {},
   "outputs": [
    {
     "data": {
      "image/png": "[encoded data removed]",
      "text/plain": [
       "<Figure size 432x288 with 1 Axes>"
      ]
     },
     "metadata": {
      "needs_background": "light"
     },
     "output_type": "display_data"
    }
   ],
   "source": [
    "plt1 = plt.bar(x = df['Abbreviation'], height = df['exp space vol'], width = 0.8)\n",
    "plt.savefig('Exp space vol_all amine.svg', format = 'svg', dpi = 1000)"
   ]
  },
  {
   "cell_type": "code",
   "execution_count": 23,
   "metadata": {},
   "outputs": [
    {
     "data": {
      "image/png": "[encoded data removed]",
      "text/plain": [
       "<Figure size 432x288 with 1 Axes>"
      ]
     },
     "metadata": {
      "needs_background": "light"
     },
     "output_type": "display_data"
    }
   ],
   "source": [
    "plt2 = plt.bar(x = df['Abbreviation'], height = df['class 4 likelihood'], width = 0.8)\n",
    "plt.savefig('class 4 likelihood_all amine.svg', format = 'svg', dpi = 1000)"
   ]
  },
  {
   "cell_type": "code",
   "execution_count": 28,
   "metadata": {},
   "outputs": [],
   "source": [
    "df_part = df.iloc[:6,:]"
   ]
  },
  {
   "cell_type": "code",
   "execution_count": 29,
   "metadata": {},
   "outputs": [
    {
     "data": {
      "image/png": "[encoded data removed]",
      "text/plain": [
       "<Figure size 432x288 with 1 Axes>"
      ]
     },
     "metadata": {
      "needs_background": "light"
     },
     "output_type": "display_data"
    }
   ],
   "source": [
    "plt3 = plt.bar(x = df_part['Abbreviation'], height = df_part['exp space vol'], width = 0.8)\n",
    "plt.savefig('Exp space vol_6 amine.svg', format = 'svg', dpi = 1000)"
   ]
  },
  {
   "cell_type": "code",
   "execution_count": 30,
   "metadata": {},
   "outputs": [
    {
     "data": {
      "image/png": "[encoded data removed]",
      "text/plain": [
       "<Figure size 432x288 with 1 Axes>"
      ]
     },
     "metadata": {
      "needs_background": "light"
     },
     "output_type": "display_data"
    }
   ],
   "source": [
    "plt4 = plt.bar(x = df_part['Abbreviation'], height = df_part['class 4 likelihood'], width = 0.8)\n",
    "plt.savefig('class 4 likelihood_6 amine.svg', format = 'svg', dpi = 1000)"
   ]
  },
  {
   "cell_type": "code",
   "execution_count": null,
   "metadata": {},
   "outputs": [],
   "source": []
  }
 ],
 "metadata": {
  "kernelspec": {
   "display_name": "Python 3",
   "language": "python",
   "name": "python3"
  },
  "language_info": {
   "codemirror_mode": {
    "name": "ipython",
    "version": 3
   },
   "file_extension": ".py",
   "mimetype": "text/x-python",
   "name": "python",
   "nbconvert_exporter": "python",
   "pygments_lexer": "ipython3",
   "version": "3.6.8"
  }
 },
 "nbformat": 4,
 "nbformat_minor": 2
}
